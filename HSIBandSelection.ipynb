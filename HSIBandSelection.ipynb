{
 "cells": [
  {
   "cell_type": "markdown",
   "metadata": {
    "id": "4zDnCDaKUoqP"
   },
   "source": [
    "# Hyperspectral Band Selection\n",
    "\n",
    "In this notebook, we'll demonstrate how to use our Inter-band redundancy method (IBRA) and the [Greedy Spectral Selection](https://www.mdpi.com/2072-4292/13/18/3649) (GSS) for hyperspectral band selection. IBRA can also be used in combination with Principal Component Analysis (PCA) and Partial Least Squares (PLS) for dimensionality reduction.\n",
    "\n",
    "## Installation\n",
    "\n",
    "Execute `!pip install git+https://github.com/NISL-MSU/HSI-BandSelection`\n",
    "\n"
   ]
  },
  {
   "cell_type": "code",
   "execution_count": 1,
   "metadata": {
    "colab": {
     "base_uri": "https://localhost:8080/"
    },
    "id": "LpT8OosiUk4q",
    "outputId": "5d905535-060f-48b8-b37d-d98f7d43ec05"
   },
   "outputs": [],
   "source": [
    "!pip install -q git+https://github.com/NISL-MSU/HSI-BandSelection\n",
    "import warnings\n",
    "warnings.filterwarnings(\"ignore\")"
   ]
  },
  {
   "cell_type": "markdown",
   "metadata": {
    "id": "PAvo_sJuVH5o"
   },
   "source": [
    "## Load your data\n",
    "\n",
    "You can bring your own HSI classification dataset. Format the input data as a set of image data cubes of shape $(N, w, h, b)$, where $N$ is the number of data cubes, $w$ and $h$ are the width and the height of the cubes, and $b$ is the number of spectral bands. You could use the `createImageCubes` method, provided [here](https://github.com/NISL-MSU/HSI-BandSelection/blob/master/src/HSIBandSelection/readSAT.py#L47), as a reference to format your data.\n",
    "\n",
    "In this example, we will load the Indian Pines dataset, which is an image with shape `(145, 145, 200)`."
   ]
  },
  {
   "cell_type": "code",
   "execution_count": 2,
   "metadata": {
    "colab": {
     "base_uri": "https://localhost:8080/"
    },
    "id": "D-Hgf37-VG98",
    "outputId": "c686c513-ab52-4a12-90c2-0099afe449b3"
   },
   "outputs": [
    {
     "name": "stdout",
     "output_type": "stream",
     "text": [
      "Initial image shape: (145, 145, 200)\n",
      "Processed dataset shape: (10249, 5, 5, 200)\n"
     ]
    }
   ],
   "source": [
    "from HSIBandSelection.readSAT import loadata, createImageCubes\n",
    "X, Y = loadata(name='IP')\n",
    "print('Initial image shape: ' + str(X.shape))\n",
    "\n",
    "X, Y = createImageCubes(X, Y, window=5)\n",
    "print('Processed dataset shape: ' + str(X.shape))"
   ]
  },
  {
   "cell_type": "markdown",
   "metadata": {
    "id": "xy57K-xukuWw"
   },
   "source": [
    "In this case, we loaded a HS image saved in our package. It doesn't matter where you bring the data from, you only need to provide the $X$ (input data) and $Y$ (target labels) matrices. In addition, assign your dataset a name; otherwise, it will be called `temp`. With these three elements, we create a data object:"
   ]
  },
  {
   "cell_type": "code",
   "execution_count": 3,
   "metadata": {
    "id": "AbDs3T5YlVhK"
   },
   "outputs": [],
   "source": [
    "from HSIBandSelection.utils import Dataset\n",
    "dataset = Dataset(train_x=X, train_y=Y, name='IP')"
   ]
  },
  {
   "cell_type": "markdown",
   "metadata": {
    "id": "HSWSjz_6nKRv"
   },
   "source": [
    "## Execute the Band Selection / Dimensionality Reduction Algorithm\n",
    "\n",
    "We'll use the `SelectBands` class. **Parameters**:\n",
    "\n",
    "*   `dataset`: utils.Dataset object\n",
    "*   `method`: Method name. Options: 'IBRA', 'GSS' (IBRA+GSS), 'PCA' (IBRA+PCA), and 'PLS' (IBRA+PLS)\n",
    "*   `classifier`: Classifier type. Options: 'CNN' (if data is 2D), 'ANN', 'RF', 'SVM'. *Default:* 'CNN'\n",
    "*   `nbands`: How many spectral bands you want to select or reduce to. *Default:* 5\n",
    "*   `transform`: If True, the final selected bands will suffer a Gaussian transformation to simulate being a multispectral band. *Default:* False\n",
    "*   `average`: If True, average consecutive bands to reduce the initial total # of bands to half. *Default:* False\n",
    "*   `epochs`: Number of iterations used to train the NN models. *Default:* 150\n",
    "*   `batch_size`: Batch size used to train the NN models. *Default:* 128\n",
    "*   `scratch`: If True, execute the IBRA process from scratch and replace previously saved results. *Default:* True\n",
    "\n",
    "\n",
    "\n",
    "\n",
    "\n",
    "\n",
    "\n",
    "\n",
    "\n",
    "\n"
   ]
  },
  {
   "cell_type": "code",
   "execution_count": 4,
   "metadata": {
    "id": "6spOOMfK0sgn"
   },
   "outputs": [],
   "source": [
    "from HSIBandSelection.SelectBands import SelectBands\n",
    "selector = SelectBands(dataset=dataset, method='GSS', nbands=5)"
   ]
  },
  {
   "cell_type": "markdown",
   "metadata": {
    "id": "1nFxKPiL0sym"
   },
   "source": [
    "From the SelectBands class, we call the `run_selection` method. **Parameters**:\n",
    "\n",
    "*   `init_vf`: Initial Variance Inflation Factor threshold (used for IBRA). *Default: 12*\n",
    "*   `final_vf`: Final Variance Inflation Factor threshold (used for IBRA). *Default: 5*\n",
    "\n",
    "\n",
    "\n",
    "**Return**:\n",
    "\n",
    "If the selected method is IBRA:\n",
    "\n",
    "*   `VIF_best`: The VIF threshold at which the best results were obtained\n",
    "*   `IBRA_best`: The best pre-selected bands using Iner-band redundancy\n",
    "*   `stats_best`: The best performance metric values obtained after 5x2 CV using the selected bands\n",
    "\n",
    "If the selected method is GSS:\n",
    "\n",
    "*   `VIF_best`: The VIF threshold at which the best results were obtained\n",
    "*   `IBRA_best`: The best pre-selected bands using Iner-band redundancy\n",
    "*   `GSS_best`: The best combination of bands obtained using GSS\n",
    "*   `stats_best`: The best performance metric values obtained after 5x2 CV using the selected bands\n",
    "\n",
    "If the selected method is PCA or PLS:\n",
    "\n",
    "*   `VIF_best`: The VIF threshold at which the best results were obtained\n",
    "*   `IBRA_best`: The best pre-selected bands using Iner-band redundancy\n",
    "*   `reduced_dataset`: The reduced dataset after applying PCA or PLS to the pre-selected bands\n",
    "*   `stats_best`: The best performance metric values obtained after 5x2 CV using the reduced bands\n",
    "\n",
    "**IMPORTANT**: This code is implemented using Pytorch. If you're running this on Google Colab, change the runtime type to GPU to accelerate the training process!"
   ]
  },
  {
   "cell_type": "code",
   "execution_count": 5,
   "metadata": {
    "colab": {
     "base_uri": "https://localhost:8080/",
     "height": 391
    },
    "id": "jmC_oR_f0tBO",
    "outputId": "872c7180-4ba3-490a-f6f3-23038798452b"
   },
   "outputs": [
    {
     "name": "stdout",
     "output_type": "stream",
     "text": [
      "*************************************\n",
      "Testing VIF threshold: 11\n",
      "*************************************\n",
      "Selecting bands:  [0, 7, 11, 15, 17, 20, 26, 34, 37, 39, 47, 56, 58, 60, 67, 74, 78, 89, 99, 104, 109, 125, 142, 144, 146, 148, 150, 169, 191, 198]\n",
      "Executing IBRA + GSS (Greddy Spectral Selection)\n",
      "\tAnalyzing candidate combination 1. 5x2 CV using bands: [17, 20, 26, 37, 47]\n"
     ]
    },
    {
     "name": "stderr",
     "output_type": "stream",
     "text": [
      "100%|██████████| 10/10 [03:02<00:00, 18.22s/it]\n"
     ]
    },
    {
     "name": "stdout",
     "output_type": "stream",
     "text": [
      "\tMean F1: 0.9532722950991902\n",
      "\t\t\tMulticolinearity analysis. Variance Inflation Factor of band 17 is 11.77\n",
      "\t\t\tMulticolinearity analysis. Variance Inflation Factor of band 20 is 13.91\n",
      "\t\t\tMulticolinearity analysis. Variance Inflation Factor of band 26 is 14.69\n",
      "\t\t\tMulticolinearity analysis. Variance Inflation Factor of band 37 is 62.25\n",
      "\t\t\tMulticolinearity analysis. Variance Inflation Factor of band 47 is 67.33\n",
      "\tAnalyzing candidate combination 2. 5x2 CV using bands: [17, 20, 26, 34, 37]\n"
     ]
    },
    {
     "name": "stderr",
     "output_type": "stream",
     "text": [
      "100%|██████████| 10/10 [02:59<00:00, 17.91s/it]\n"
     ]
    },
    {
     "name": "stdout",
     "output_type": "stream",
     "text": [
      "\tMean F1: 0.9625449649975509\n",
      "\tBest selection so far: [17, 20, 26, 34, 37]with an F1 score of 0.9625449649975509\n",
      "\t\t\tMulticolinearity analysis. Variance Inflation Factor of band 17 is 12.89\n",
      "\t\t\tMulticolinearity analysis. Variance Inflation Factor of band 20 is 13.77\n",
      "\t\t\tMulticolinearity analysis. Variance Inflation Factor of band 26 is 14.11\n",
      "\t\t\tMulticolinearity analysis. Variance Inflation Factor of band 34 is 7.73\n",
      "\t\t\tMulticolinearity analysis. Variance Inflation Factor of band 37 is 1.94\n",
      "\tAnalyzing candidate combination 3. 5x2 CV using bands: [15, 17, 20, 34, 37]\n"
     ]
    },
    {
     "name": "stderr",
     "output_type": "stream",
     "text": [
      "100%|██████████| 10/10 [03:01<00:00, 18.18s/it]\n"
     ]
    },
    {
     "name": "stdout",
     "output_type": "stream",
     "text": [
      "\tMean F1: 0.9651060207875384\n",
      "\tBest selection so far: [15, 17, 20, 34, 37]with an F1 score of 0.9651060207875384\n",
      "\t\t\tMulticolinearity analysis. Variance Inflation Factor of band 15 is 32.21\n",
      "\t\t\tMulticolinearity analysis. Variance Inflation Factor of band 17 is 18.73\n",
      "\t\t\tMulticolinearity analysis. Variance Inflation Factor of band 20 is 13.99\n",
      "\t\t\tMulticolinearity analysis. Variance Inflation Factor of band 34 is 8.41\n",
      "\t\t\tMulticolinearity analysis. Variance Inflation Factor of band 37 is 2.2\n",
      "\tAnalyzing candidate combination 4. 5x2 CV using bands: [17, 20, 34, 37, 39]\n"
     ]
    },
    {
     "name": "stderr",
     "output_type": "stream",
     "text": [
      "100%|██████████| 10/10 [02:56<00:00, 17.69s/it]\n"
     ]
    },
    {
     "name": "stdout",
     "output_type": "stream",
     "text": [
      "\tMean F1: 0.9632591375476809\n",
      "\tBest selection so far: [15, 17, 20, 34, 37]with an F1 score of 0.9651060207875384\n",
      "\t\t\tMulticolinearity analysis. Variance Inflation Factor of band 17 is 11.43\n",
      "\t\t\tMulticolinearity analysis. Variance Inflation Factor of band 20 is 9.3\n",
      "\t\t\tMulticolinearity analysis. Variance Inflation Factor of band 34 is 7.73\n",
      "\t\t\tMulticolinearity analysis. Variance Inflation Factor of band 37 is 12.73\n",
      "\t\t\tMulticolinearity analysis. Variance Inflation Factor of band 39 is 11.5\n",
      "\tAnalyzing candidate combination 5. 5x2 CV using bands: [17, 20, 34, 39, 67]\n"
     ]
    },
    {
     "name": "stderr",
     "output_type": "stream",
     "text": [
      "100%|██████████| 10/10 [02:57<00:00, 17.75s/it]\n"
     ]
    },
    {
     "name": "stdout",
     "output_type": "stream",
     "text": [
      "\tMean F1: 0.9772497899448149\n",
      "\tBest selection so far: [17, 20, 34, 39, 67]with an F1 score of 0.9772497899448149\n",
      "\t\t\tMulticolinearity analysis. Variance Inflation Factor of band 17 is 11.59\n",
      "\t\t\tMulticolinearity analysis. Variance Inflation Factor of band 20 is 9.3\n",
      "\t\t\tMulticolinearity analysis. Variance Inflation Factor of band 34 is 7.89\n",
      "\t\t\tMulticolinearity analysis. Variance Inflation Factor of band 39 is 5.94\n",
      "\t\t\tMulticolinearity analysis. Variance Inflation Factor of band 67 is 6.79\n",
      "\tAnalyzing candidate combination 6. 5x2 CV using bands: [11, 20, 34, 39, 67]\n"
     ]
    },
    {
     "name": "stderr",
     "output_type": "stream",
     "text": [
      "100%|██████████| 10/10 [03:03<00:00, 18.39s/it]\n"
     ]
    },
    {
     "name": "stdout",
     "output_type": "stream",
     "text": [
      "\tMean F1: 0.9790000662201294\n",
      "\tBest selection so far: [11, 20, 34, 39, 67]with an F1 score of 0.9790000662201294\n",
      "\t\t\tMulticolinearity analysis. Variance Inflation Factor of band 11 is 12.31\n",
      "\t\t\tMulticolinearity analysis. Variance Inflation Factor of band 20 is 11.03\n",
      "\t\t\tMulticolinearity analysis. Variance Inflation Factor of band 34 is 7.17\n",
      "\t\t\tMulticolinearity analysis. Variance Inflation Factor of band 39 is 5.95\n",
      "\t\t\tMulticolinearity analysis. Variance Inflation Factor of band 67 is 6.48\n",
      "\tAnalyzing candidate combination 7. 5x2 CV using bands: [20, 34, 39, 56, 67]\n"
     ]
    },
    {
     "name": "stderr",
     "output_type": "stream",
     "text": [
      "100%|██████████| 10/10 [03:02<00:00, 18.23s/it]\n"
     ]
    },
    {
     "name": "stdout",
     "output_type": "stream",
     "text": [
      "\tMean F1: 0.9686312044423555\n",
      "\tBest selection so far: [11, 20, 34, 39, 67]with an F1 score of 0.9790000662201294\n",
      "\t\t\tMulticolinearity analysis. Variance Inflation Factor of band 20 is 5.62\n",
      "\t\t\tMulticolinearity analysis. Variance Inflation Factor of band 34 is 5.96\n",
      "\t\t\tMulticolinearity analysis. Variance Inflation Factor of band 39 is 6.01\n",
      "\t\t\tMulticolinearity analysis. Variance Inflation Factor of band 56 is 3.97\n",
      "\t\t\tMulticolinearity analysis. Variance Inflation Factor of band 67 is 8.65\n",
      "\tAnalyzing candidate combination 8. 5x2 CV using bands: [7, 20, 34, 39, 56]\n"
     ]
    },
    {
     "name": "stderr",
     "output_type": "stream",
     "text": [
      "100%|██████████| 10/10 [03:03<00:00, 18.34s/it]\n"
     ]
    },
    {
     "name": "stdout",
     "output_type": "stream",
     "text": [
      "\tMean F1: 0.9710406756356054\n",
      "\tBest selection so far: [11, 20, 34, 39, 67]with an F1 score of 0.9790000662201294\n",
      "\t\t\tMulticolinearity analysis. Variance Inflation Factor of band 7 is 8.06\n",
      "\t\t\tMulticolinearity analysis. Variance Inflation Factor of band 20 is 10.36\n",
      "\t\t\tMulticolinearity analysis. Variance Inflation Factor of band 34 is 5.53\n",
      "\t\t\tMulticolinearity analysis. Variance Inflation Factor of band 39 is 3.16\n",
      "\t\t\tMulticolinearity analysis. Variance Inflation Factor of band 56 is 2.97\n",
      "\tAnalyzing candidate combination 9. 5x2 CV using bands: [7, 34, 39, 56, 60]\n"
     ]
    },
    {
     "name": "stderr",
     "output_type": "stream",
     "text": [
      "100%|██████████| 10/10 [03:02<00:00, 18.22s/it]\n"
     ]
    },
    {
     "name": "stdout",
     "output_type": "stream",
     "text": [
      "\tMean F1: 0.9632185439448598\n",
      "\tBest selection so far: [11, 20, 34, 39, 67]with an F1 score of 0.9790000662201294\n",
      "\t\t\tMulticolinearity analysis. Variance Inflation Factor of band 7 is 4.3\n",
      "\t\t\tMulticolinearity analysis. Variance Inflation Factor of band 34 is 4.27\n",
      "\t\t\tMulticolinearity analysis. Variance Inflation Factor of band 39 is 3.51\n",
      "\t\t\tMulticolinearity analysis. Variance Inflation Factor of band 56 is 2.95\n",
      "\t\t\tMulticolinearity analysis. Variance Inflation Factor of band 60 is 1.63\n",
      "\tAnalyzing candidate combination 10. 5x2 CV using bands: [34, 39, 56, 60, 74]\n"
     ]
    },
    {
     "name": "stderr",
     "output_type": "stream",
     "text": [
      "100%|██████████| 10/10 [03:00<00:00, 18.02s/it]\n"
     ]
    },
    {
     "name": "stdout",
     "output_type": "stream",
     "text": [
      "\tMean F1: 0.945331148147052\n",
      "\tBest selection so far: [11, 20, 34, 39, 67]with an F1 score of 0.9790000662201294\n",
      "\t\t\tMulticolinearity analysis. Variance Inflation Factor of band 34 is 1.01\n",
      "\t\t\tMulticolinearity analysis. Variance Inflation Factor of band 39 is 3.44\n",
      "\t\t\tMulticolinearity analysis. Variance Inflation Factor of band 56 is 5.11\n",
      "\t\t\tMulticolinearity analysis. Variance Inflation Factor of band 60 is 2.24\n",
      "\t\t\tMulticolinearity analysis. Variance Inflation Factor of band 74 is 4.28\n",
      "\tAnalyzing candidate combination 11. 5x2 CV using bands: [34, 39, 60, 74, 125]\n"
     ]
    },
    {
     "name": "stderr",
     "output_type": "stream",
     "text": [
      "100%|██████████| 10/10 [03:08<00:00, 18.85s/it]\n"
     ]
    },
    {
     "name": "stdout",
     "output_type": "stream",
     "text": [
      "\tMean F1: 0.9617384485564283\n",
      "\tBest selection so far: [11, 20, 34, 39, 67]with an F1 score of 0.9790000662201294\n",
      "\t\t\tMulticolinearity analysis. Variance Inflation Factor of band 34 is 5.66\n",
      "\t\t\tMulticolinearity analysis. Variance Inflation Factor of band 39 is 2.69\n",
      "\t\t\tMulticolinearity analysis. Variance Inflation Factor of band 60 is 2.08\n",
      "\t\t\tMulticolinearity analysis. Variance Inflation Factor of band 74 is 2.48\n",
      "\t\t\tMulticolinearity analysis. Variance Inflation Factor of band 125 is 5.99\n",
      "\tAnalyzing candidate combination 12. 5x2 CV using bands: [34, 39, 60, 74, 89]\n"
     ]
    },
    {
     "name": "stderr",
     "output_type": "stream",
     "text": [
      "100%|██████████| 10/10 [03:03<00:00, 18.36s/it]\n"
     ]
    },
    {
     "name": "stdout",
     "output_type": "stream",
     "text": [
      "\tMean F1: 0.9354739470745296\n",
      "\tBest selection so far: [11, 20, 34, 39, 67]with an F1 score of 0.9790000662201294\n",
      "\t\t\tMulticolinearity analysis. Variance Inflation Factor of band 34 is 1.1\n",
      "\t\t\tMulticolinearity analysis. Variance Inflation Factor of band 39 is 2.16\n",
      "\t\t\tMulticolinearity analysis. Variance Inflation Factor of band 60 is 2.5\n",
      "\t\t\tMulticolinearity analysis. Variance Inflation Factor of band 74 is 2.5\n",
      "\t\t\tMulticolinearity analysis. Variance Inflation Factor of band 89 is 1.56\n",
      "\tAnalyzing candidate combination 13. 5x2 CV using bands: [34, 39, 58, 74, 89]\n"
     ]
    },
    {
     "name": "stderr",
     "output_type": "stream",
     "text": [
      "100%|██████████| 10/10 [03:02<00:00, 18.29s/it]\n"
     ]
    },
    {
     "name": "stdout",
     "output_type": "stream",
     "text": [
      "\tMean F1: 0.9530982913213272\n",
      "\tBest selection so far: [11, 20, 34, 39, 67]with an F1 score of 0.9790000662201294\n",
      "\t\t\tMulticolinearity analysis. Variance Inflation Factor of band 34 is 1.33\n",
      "\t\t\tMulticolinearity analysis. Variance Inflation Factor of band 39 is 6.48\n",
      "\t\t\tMulticolinearity analysis. Variance Inflation Factor of band 58 is 10.2\n",
      "\t\t\tMulticolinearity analysis. Variance Inflation Factor of band 74 is 2.9\n",
      "\t\t\tMulticolinearity analysis. Variance Inflation Factor of band 89 is 1.45\n",
      "\tAnalyzing candidate combination 14. 5x2 CV using bands: [34, 39, 74, 89, 99]\n"
     ]
    },
    {
     "name": "stderr",
     "output_type": "stream",
     "text": [
      "100%|██████████| 10/10 [03:02<00:00, 18.27s/it]\n"
     ]
    },
    {
     "name": "stdout",
     "output_type": "stream",
     "text": [
      "\tMean F1: 0.9503608126314397\n",
      "\tBest selection so far: [11, 20, 34, 39, 67]with an F1 score of 0.9790000662201294\n",
      "\t\t\tMulticolinearity analysis. Variance Inflation Factor of band 34 is 3.9\n",
      "\t\t\tMulticolinearity analysis. Variance Inflation Factor of band 39 is 1.98\n",
      "\t\t\tMulticolinearity analysis. Variance Inflation Factor of band 74 is 2.26\n",
      "\t\t\tMulticolinearity analysis. Variance Inflation Factor of band 89 is 1.41\n",
      "\t\t\tMulticolinearity analysis. Variance Inflation Factor of band 99 is 4.65\n",
      "\tAnalyzing candidate combination 15. 5x2 CV using bands: [34, 39, 74, 78, 89]\n"
     ]
    },
    {
     "name": "stderr",
     "output_type": "stream",
     "text": [
      "100%|██████████| 10/10 [03:04<00:00, 18.42s/it]\n"
     ]
    },
    {
     "name": "stdout",
     "output_type": "stream",
     "text": [
      "\tMean F1: 0.950940519174725\n",
      "\tBest selection so far: [11, 20, 34, 39, 67]with an F1 score of 0.9790000662201294\n",
      "\t\t\tMulticolinearity analysis. Variance Inflation Factor of band 34 is 1.94\n",
      "\t\t\tMulticolinearity analysis. Variance Inflation Factor of band 39 is 3.01\n",
      "\t\t\tMulticolinearity analysis. Variance Inflation Factor of band 74 is 2.51\n",
      "\t\t\tMulticolinearity analysis. Variance Inflation Factor of band 78 is 5.15\n",
      "\t\t\tMulticolinearity analysis. Variance Inflation Factor of band 89 is 1.49\n",
      "\tAnalyzing candidate combination 16. 5x2 CV using bands: [34, 39, 74, 89, 148]\n"
     ]
    },
    {
     "name": "stderr",
     "output_type": "stream",
     "text": [
      "100%|██████████| 10/10 [03:00<00:00, 18.03s/it]\n"
     ]
    },
    {
     "name": "stdout",
     "output_type": "stream",
     "text": [
      "\tMean F1: 0.9561537299613455\n",
      "\tBest selection so far: [11, 20, 34, 39, 67]with an F1 score of 0.9790000662201294\n",
      "\t\t\tMulticolinearity analysis. Variance Inflation Factor of band 34 is 3.6\n",
      "\t\t\tMulticolinearity analysis. Variance Inflation Factor of band 39 is 2.23\n",
      "\t\t\tMulticolinearity analysis. Variance Inflation Factor of band 74 is 2.21\n",
      "\t\t\tMulticolinearity analysis. Variance Inflation Factor of band 89 is 1.38\n",
      "\t\t\tMulticolinearity analysis. Variance Inflation Factor of band 148 is 4.04\n",
      "\tAnalyzing candidate combination 17. 5x2 CV using bands: [34, 39, 74, 89, 169]\n"
     ]
    },
    {
     "name": "stderr",
     "output_type": "stream",
     "text": [
      "100%|██████████| 10/10 [03:01<00:00, 18.14s/it]\n"
     ]
    },
    {
     "name": "stdout",
     "output_type": "stream",
     "text": [
      "\tMean F1: 0.9509305066843508\n",
      "\tBest selection so far: [11, 20, 34, 39, 67]with an F1 score of 0.9790000662201294\n",
      "\t\t\tMulticolinearity analysis. Variance Inflation Factor of band 34 is 3.53\n",
      "\t\t\tMulticolinearity analysis. Variance Inflation Factor of band 39 is 2.13\n",
      "\t\t\tMulticolinearity analysis. Variance Inflation Factor of band 74 is 2.2\n",
      "\t\t\tMulticolinearity analysis. Variance Inflation Factor of band 89 is 1.4\n",
      "\t\t\tMulticolinearity analysis. Variance Inflation Factor of band 169 is 3.9\n",
      "\tAnalyzing candidate combination 18. 5x2 CV using bands: [0, 34, 39, 74, 89]\n"
     ]
    },
    {
     "name": "stderr",
     "output_type": "stream",
     "text": [
      "100%|██████████| 10/10 [03:03<00:00, 18.33s/it]\n"
     ]
    },
    {
     "name": "stdout",
     "output_type": "stream",
     "text": [
      "\tMean F1: 0.935107660466852\n",
      "\tBest selection so far: [11, 20, 34, 39, 67]with an F1 score of 0.9790000662201294\n",
      "\t\t\tMulticolinearity analysis. Variance Inflation Factor of band 0 is 1.2\n",
      "\t\t\tMulticolinearity analysis. Variance Inflation Factor of band 34 is 1.13\n",
      "\t\t\tMulticolinearity analysis. Variance Inflation Factor of band 39 is 2.0\n",
      "\t\t\tMulticolinearity analysis. Variance Inflation Factor of band 74 is 2.18\n",
      "\t\t\tMulticolinearity analysis. Variance Inflation Factor of band 89 is 1.31\n",
      "\tAnalyzing candidate combination 19. 5x2 CV using bands: [0, 34, 39, 89, 109]\n"
     ]
    },
    {
     "name": "stderr",
     "output_type": "stream",
     "text": [
      "100%|██████████| 10/10 [03:01<00:00, 18.15s/it]\n"
     ]
    },
    {
     "name": "stdout",
     "output_type": "stream",
     "text": [
      "\tMean F1: 0.9379047359613206\n",
      "\tBest selection so far: [11, 20, 34, 39, 67]with an F1 score of 0.9790000662201294\n",
      "\t\t\tMulticolinearity analysis. Variance Inflation Factor of band 0 is 1.29\n",
      "\t\t\tMulticolinearity analysis. Variance Inflation Factor of band 34 is 3.13\n",
      "\t\t\tMulticolinearity analysis. Variance Inflation Factor of band 39 is 1.34\n",
      "\t\t\tMulticolinearity analysis. Variance Inflation Factor of band 89 is 1.28\n",
      "\t\t\tMulticolinearity analysis. Variance Inflation Factor of band 109 is 3.68\n",
      "\tAnalyzing candidate combination 20. 5x2 CV using bands: [0, 34, 39, 89, 146]\n"
     ]
    },
    {
     "name": "stderr",
     "output_type": "stream",
     "text": [
      "100%|██████████| 10/10 [03:03<00:00, 18.30s/it]\n"
     ]
    },
    {
     "name": "stdout",
     "output_type": "stream",
     "text": [
      "\tMean F1: 0.9345194369302202\n",
      "\tBest selection so far: [11, 20, 34, 39, 67]with an F1 score of 0.9790000662201294\n",
      "\t\t\tMulticolinearity analysis. Variance Inflation Factor of band 0 is 1.31\n",
      "\t\t\tMulticolinearity analysis. Variance Inflation Factor of band 34 is 1.98\n",
      "\t\t\tMulticolinearity analysis. Variance Inflation Factor of band 39 is 1.15\n",
      "\t\t\tMulticolinearity analysis. Variance Inflation Factor of band 89 is 1.32\n",
      "\t\t\tMulticolinearity analysis. Variance Inflation Factor of band 146 is 2.48\n",
      "\tAnalyzing candidate combination 21. 5x2 CV using bands: [0, 34, 39, 89, 191]\n"
     ]
    },
    {
     "name": "stderr",
     "output_type": "stream",
     "text": [
      "100%|██████████| 10/10 [03:01<00:00, 18.16s/it]\n"
     ]
    },
    {
     "name": "stdout",
     "output_type": "stream",
     "text": [
      "\tMean F1: 0.9347737412127841\n",
      "\tBest selection so far: [11, 20, 34, 39, 67]with an F1 score of 0.9790000662201294\n",
      "\t\t\tMulticolinearity analysis. Variance Inflation Factor of band 0 is 1.31\n",
      "\t\t\tMulticolinearity analysis. Variance Inflation Factor of band 34 is 1.93\n",
      "\t\t\tMulticolinearity analysis. Variance Inflation Factor of band 39 is 1.14\n",
      "\t\t\tMulticolinearity analysis. Variance Inflation Factor of band 89 is 1.32\n",
      "\t\t\tMulticolinearity analysis. Variance Inflation Factor of band 191 is 2.45\n",
      "\tAnalyzing candidate combination 22. 5x2 CV using bands: [0, 34, 39, 89, 142]\n"
     ]
    },
    {
     "name": "stderr",
     "output_type": "stream",
     "text": [
      "100%|██████████| 10/10 [03:04<00:00, 18.43s/it]\n"
     ]
    },
    {
     "name": "stdout",
     "output_type": "stream",
     "text": [
      "\tMean F1: 0.9363061012629366\n",
      "\tBest selection so far: [11, 20, 34, 39, 67]with an F1 score of 0.9790000662201294\n",
      "\t\t\tMulticolinearity analysis. Variance Inflation Factor of band 0 is 1.3\n",
      "\t\t\tMulticolinearity analysis. Variance Inflation Factor of band 34 is 1.94\n",
      "\t\t\tMulticolinearity analysis. Variance Inflation Factor of band 39 is 1.13\n",
      "\t\t\tMulticolinearity analysis. Variance Inflation Factor of band 89 is 1.35\n",
      "\t\t\tMulticolinearity analysis. Variance Inflation Factor of band 142 is 2.49\n",
      "\tAnalyzing candidate combination 23. 5x2 CV using bands: [0, 34, 39, 89, 150]\n"
     ]
    },
    {
     "name": "stderr",
     "output_type": "stream",
     "text": [
      "100%|██████████| 10/10 [03:01<00:00, 18.15s/it]\n"
     ]
    },
    {
     "name": "stdout",
     "output_type": "stream",
     "text": [
      "\tMean F1: 0.9376805529120332\n",
      "\tBest selection so far: [11, 20, 34, 39, 67]with an F1 score of 0.9790000662201294\n",
      "\t\t\tMulticolinearity analysis. Variance Inflation Factor of band 0 is 1.31\n",
      "\t\t\tMulticolinearity analysis. Variance Inflation Factor of band 34 is 1.92\n",
      "\t\t\tMulticolinearity analysis. Variance Inflation Factor of band 39 is 1.14\n",
      "\t\t\tMulticolinearity analysis. Variance Inflation Factor of band 89 is 1.33\n",
      "\t\t\tMulticolinearity analysis. Variance Inflation Factor of band 150 is 2.44\n",
      "\tAnalyzing candidate combination 24. 5x2 CV using bands: [0, 34, 39, 89, 104]\n"
     ]
    },
    {
     "name": "stderr",
     "output_type": "stream",
     "text": [
      "100%|██████████| 10/10 [03:01<00:00, 18.16s/it]\n"
     ]
    },
    {
     "name": "stdout",
     "output_type": "stream",
     "text": [
      "\tMean F1: 0.9267572088819763\n",
      "Selecting bands:  [11, 20, 34, 39, 67]\n",
      "\n",
      " Training a model using 5x2 CV using the final selected or reduced bands...\n",
      "Mean F1 score: 97.73562842369931\n",
      "\n",
      "*************************************\n",
      "Testing VIF threshold: 10\n",
      "*************************************\n",
      "Selecting bands:  [0, 7, 11, 15, 17, 25, 34, 37, 39, 44, 47, 56, 58, 60, 67, 74, 78, 86, 93, 99, 104, 109, 125, 142, 144, 146, 148, 150, 169, 191, 199]\n",
      "Executing IBRA + GSS (Greddy Spectral Selection)\n",
      "\tAnalyzing candidate combination 1. 5x2 CV using bands: [17, 25, 37, 44, 47]\n"
     ]
    },
    {
     "name": "stderr",
     "output_type": "stream",
     "text": [
      "100%|██████████| 10/10 [03:07<00:00, 18.70s/it]\n"
     ]
    },
    {
     "name": "stdout",
     "output_type": "stream",
     "text": [
      "\tMean F1: 0.952427438056423\n",
      "\t\t\tMulticolinearity analysis. Variance Inflation Factor of band 17 is 11.04\n",
      "\t\t\tMulticolinearity analysis. Variance Inflation Factor of band 25 is 9.81\n",
      "\t\t\tMulticolinearity analysis. Variance Inflation Factor of band 37 is 70.1\n",
      "\t\t\tMulticolinearity analysis. Variance Inflation Factor of band 44 is 184.93\n",
      "\t\t\tMulticolinearity analysis. Variance Inflation Factor of band 47 is 169.09\n",
      "\tAnalyzing candidate combination 2. 5x2 CV using bands: [17, 25, 34, 37, 47]\n"
     ]
    },
    {
     "name": "stderr",
     "output_type": "stream",
     "text": [
      "100%|██████████| 10/10 [03:04<00:00, 18.49s/it]\n"
     ]
    },
    {
     "name": "stdout",
     "output_type": "stream",
     "text": [
      "\tMean F1: 0.971654148815649\n",
      "\tBest selection so far: [17, 25, 34, 37, 47]with an F1 score of 0.971654148815649\n",
      "\t\t\tMulticolinearity analysis. Variance Inflation Factor of band 17 is 12.4\n",
      "\t\t\tMulticolinearity analysis. Variance Inflation Factor of band 25 is 10.81\n",
      "\t\t\tMulticolinearity analysis. Variance Inflation Factor of band 34 is 8.12\n",
      "\t\t\tMulticolinearity analysis. Variance Inflation Factor of band 37 is 66.53\n",
      "\t\t\tMulticolinearity analysis. Variance Inflation Factor of band 47 is 66.91\n",
      "\tAnalyzing candidate combination 3. 5x2 CV using bands: [15, 17, 25, 34, 37]\n"
     ]
    },
    {
     "name": "stderr",
     "output_type": "stream",
     "text": [
      "100%|██████████| 10/10 [03:03<00:00, 18.39s/it]\n"
     ]
    },
    {
     "name": "stdout",
     "output_type": "stream",
     "text": [
      "\tMean F1: 0.9617325887896783\n",
      "\tBest selection so far: [17, 25, 34, 37, 47]with an F1 score of 0.971654148815649\n",
      "\t\t\tMulticolinearity analysis. Variance Inflation Factor of band 15 is 28.36\n",
      "\t\t\tMulticolinearity analysis. Variance Inflation Factor of band 17 is 19.14\n",
      "\t\t\tMulticolinearity analysis. Variance Inflation Factor of band 25 is 14.32\n",
      "\t\t\tMulticolinearity analysis. Variance Inflation Factor of band 34 is 8.53\n",
      "\t\t\tMulticolinearity analysis. Variance Inflation Factor of band 37 is 2.3\n",
      "\tAnalyzing candidate combination 4. 5x2 CV using bands: [17, 25, 34, 37, 39]\n"
     ]
    },
    {
     "name": "stderr",
     "output_type": "stream",
     "text": [
      "100%|██████████| 10/10 [03:04<00:00, 18.42s/it]\n"
     ]
    },
    {
     "name": "stdout",
     "output_type": "stream",
     "text": [
      "\tMean F1: 0.961306486237067\n",
      "\tBest selection so far: [17, 25, 34, 37, 47]with an F1 score of 0.971654148815649\n",
      "\t\t\tMulticolinearity analysis. Variance Inflation Factor of band 17 is 12.05\n",
      "\t\t\tMulticolinearity analysis. Variance Inflation Factor of band 25 is 10.81\n",
      "\t\t\tMulticolinearity analysis. Variance Inflation Factor of band 34 is 7.91\n",
      "\t\t\tMulticolinearity analysis. Variance Inflation Factor of band 37 is 12.75\n",
      "\t\t\tMulticolinearity analysis. Variance Inflation Factor of band 39 is 11.51\n",
      "\tAnalyzing candidate combination 5. 5x2 CV using bands: [17, 25, 34, 39, 67]\n"
     ]
    },
    {
     "name": "stderr",
     "output_type": "stream",
     "text": [
      "100%|██████████| 10/10 [03:02<00:00, 18.23s/it]\n"
     ]
    },
    {
     "name": "stdout",
     "output_type": "stream",
     "text": [
      "\tMean F1: 0.9744636819271554\n",
      "\tBest selection so far: [17, 25, 34, 39, 67]with an F1 score of 0.9744636819271554\n",
      "\t\t\tMulticolinearity analysis. Variance Inflation Factor of band 17 is 11.91\n",
      "\t\t\tMulticolinearity analysis. Variance Inflation Factor of band 25 is 11.06\n",
      "\t\t\tMulticolinearity analysis. Variance Inflation Factor of band 34 is 8.33\n",
      "\t\t\tMulticolinearity analysis. Variance Inflation Factor of band 39 is 5.93\n",
      "\t\t\tMulticolinearity analysis. Variance Inflation Factor of band 67 is 6.96\n",
      "\tAnalyzing candidate combination 6. 5x2 CV using bands: [11, 25, 34, 39, 67]\n"
     ]
    },
    {
     "name": "stderr",
     "output_type": "stream",
     "text": [
      "100%|██████████| 10/10 [03:01<00:00, 18.13s/it]\n"
     ]
    },
    {
     "name": "stdout",
     "output_type": "stream",
     "text": [
      "\tMean F1: 0.9771815655459225\n",
      "\tBest selection so far: [11, 25, 34, 39, 67]with an F1 score of 0.9771815655459225\n",
      "\t\t\tMulticolinearity analysis. Variance Inflation Factor of band 11 is 10.83\n",
      "\t\t\tMulticolinearity analysis. Variance Inflation Factor of band 25 is 11.22\n",
      "\t\t\tMulticolinearity analysis. Variance Inflation Factor of band 34 is 7.89\n",
      "\t\t\tMulticolinearity analysis. Variance Inflation Factor of band 39 is 5.95\n",
      "\t\t\tMulticolinearity analysis. Variance Inflation Factor of band 67 is 6.86\n",
      "\tAnalyzing candidate combination 7. 5x2 CV using bands: [11, 34, 39, 56, 67]\n"
     ]
    },
    {
     "name": "stderr",
     "output_type": "stream",
     "text": [
      "100%|██████████| 10/10 [03:00<00:00, 18.01s/it]\n"
     ]
    },
    {
     "name": "stdout",
     "output_type": "stream",
     "text": [
      "\tMean F1: 0.9692645912060875\n",
      "\tBest selection so far: [11, 25, 34, 39, 67]with an F1 score of 0.9771815655459225\n",
      "\t\t\tMulticolinearity analysis. Variance Inflation Factor of band 11 is 6.27\n",
      "\t\t\tMulticolinearity analysis. Variance Inflation Factor of band 34 is 6.65\n",
      "\t\t\tMulticolinearity analysis. Variance Inflation Factor of band 39 is 6.03\n",
      "\t\t\tMulticolinearity analysis. Variance Inflation Factor of band 56 is 3.96\n",
      "\t\t\tMulticolinearity analysis. Variance Inflation Factor of band 67 is 8.62\n",
      "\tAnalyzing candidate combination 8. 5x2 CV using bands: [7, 11, 34, 39, 56]\n"
     ]
    },
    {
     "name": "stderr",
     "output_type": "stream",
     "text": [
      "100%|██████████| 10/10 [03:00<00:00, 18.08s/it]\n"
     ]
    },
    {
     "name": "stdout",
     "output_type": "stream",
     "text": [
      "\tMean F1: 0.9681815562940621\n",
      "\tBest selection so far: [11, 25, 34, 39, 67]with an F1 score of 0.9771815655459225\n",
      "\t\t\tMulticolinearity analysis. Variance Inflation Factor of band 7 is 21.97\n",
      "\t\t\tMulticolinearity analysis. Variance Inflation Factor of band 11 is 31.62\n",
      "\t\t\tMulticolinearity analysis. Variance Inflation Factor of band 34 is 6.14\n",
      "\t\t\tMulticolinearity analysis. Variance Inflation Factor of band 39 is 3.3\n",
      "\t\t\tMulticolinearity analysis. Variance Inflation Factor of band 56 is 2.98\n",
      "\tAnalyzing candidate combination 9. 5x2 CV using bands: [7, 34, 39, 56, 60]\n"
     ]
    },
    {
     "name": "stderr",
     "output_type": "stream",
     "text": [
      "100%|██████████| 10/10 [03:00<00:00, 18.04s/it]\n"
     ]
    },
    {
     "name": "stdout",
     "output_type": "stream",
     "text": [
      "\tMean F1: 0.9632185439448598\n",
      "\tBest selection so far: [11, 25, 34, 39, 67]with an F1 score of 0.9771815655459225\n",
      "\t\t\tMulticolinearity analysis. Variance Inflation Factor of band 7 is 4.3\n",
      "\t\t\tMulticolinearity analysis. Variance Inflation Factor of band 34 is 4.27\n",
      "\t\t\tMulticolinearity analysis. Variance Inflation Factor of band 39 is 3.51\n",
      "\t\t\tMulticolinearity analysis. Variance Inflation Factor of band 56 is 2.95\n",
      "\t\t\tMulticolinearity analysis. Variance Inflation Factor of band 60 is 1.63\n",
      "\tAnalyzing candidate combination 10. 5x2 CV using bands: [34, 39, 56, 60, 74]\n"
     ]
    },
    {
     "name": "stderr",
     "output_type": "stream",
     "text": [
      "100%|██████████| 10/10 [03:00<00:00, 18.06s/it]\n"
     ]
    },
    {
     "name": "stdout",
     "output_type": "stream",
     "text": [
      "\tMean F1: 0.945331148147052\n",
      "\tBest selection so far: [11, 25, 34, 39, 67]with an F1 score of 0.9771815655459225\n",
      "\t\t\tMulticolinearity analysis. Variance Inflation Factor of band 34 is 1.01\n",
      "\t\t\tMulticolinearity analysis. Variance Inflation Factor of band 39 is 3.44\n",
      "\t\t\tMulticolinearity analysis. Variance Inflation Factor of band 56 is 5.11\n",
      "\t\t\tMulticolinearity analysis. Variance Inflation Factor of band 60 is 2.24\n",
      "\t\t\tMulticolinearity analysis. Variance Inflation Factor of band 74 is 4.28\n",
      "\tAnalyzing candidate combination 11. 5x2 CV using bands: [34, 39, 60, 74, 125]\n"
     ]
    },
    {
     "name": "stderr",
     "output_type": "stream",
     "text": [
      "100%|██████████| 10/10 [03:02<00:00, 18.23s/it]\n"
     ]
    },
    {
     "name": "stdout",
     "output_type": "stream",
     "text": [
      "\tMean F1: 0.9617384485564283\n",
      "\tBest selection so far: [11, 25, 34, 39, 67]with an F1 score of 0.9771815655459225\n",
      "\t\t\tMulticolinearity analysis. Variance Inflation Factor of band 34 is 5.66\n",
      "\t\t\tMulticolinearity analysis. Variance Inflation Factor of band 39 is 2.69\n",
      "\t\t\tMulticolinearity analysis. Variance Inflation Factor of band 60 is 2.08\n",
      "\t\t\tMulticolinearity analysis. Variance Inflation Factor of band 74 is 2.48\n",
      "\t\t\tMulticolinearity analysis. Variance Inflation Factor of band 125 is 5.99\n",
      "\tAnalyzing candidate combination 12. 5x2 CV using bands: [34, 39, 60, 74, 86]\n"
     ]
    },
    {
     "name": "stderr",
     "output_type": "stream",
     "text": [
      "100%|██████████| 10/10 [03:02<00:00, 18.27s/it]\n"
     ]
    },
    {
     "name": "stdout",
     "output_type": "stream",
     "text": [
      "\tMean F1: 0.9431617427831387\n",
      "\tBest selection so far: [11, 25, 34, 39, 67]with an F1 score of 0.9771815655459225\n",
      "\t\t\tMulticolinearity analysis. Variance Inflation Factor of band 34 is 1.21\n",
      "\t\t\tMulticolinearity analysis. Variance Inflation Factor of band 39 is 2.26\n",
      "\t\t\tMulticolinearity analysis. Variance Inflation Factor of band 60 is 2.1\n",
      "\t\t\tMulticolinearity analysis. Variance Inflation Factor of band 74 is 2.56\n",
      "\t\t\tMulticolinearity analysis. Variance Inflation Factor of band 86 is 1.4\n",
      "\tAnalyzing candidate combination 13. 5x2 CV using bands: [34, 39, 58, 60, 86]\n"
     ]
    },
    {
     "name": "stderr",
     "output_type": "stream",
     "text": [
      "100%|██████████| 10/10 [03:02<00:00, 18.26s/it]\n"
     ]
    },
    {
     "name": "stdout",
     "output_type": "stream",
     "text": [
      "\tMean F1: 0.9581736520047087\n",
      "\tBest selection so far: [11, 25, 34, 39, 67]with an F1 score of 0.9771815655459225\n",
      "\t\t\tMulticolinearity analysis. Variance Inflation Factor of band 34 is 1.34\n",
      "\t\t\tMulticolinearity analysis. Variance Inflation Factor of band 39 is 6.24\n",
      "\t\t\tMulticolinearity analysis. Variance Inflation Factor of band 58 is 9.96\n",
      "\t\t\tMulticolinearity analysis. Variance Inflation Factor of band 60 is 2.28\n",
      "\t\t\tMulticolinearity analysis. Variance Inflation Factor of band 86 is 1.61\n",
      "\tAnalyzing candidate combination 14. 5x2 CV using bands: [34, 39, 60, 86, 93]\n"
     ]
    },
    {
     "name": "stderr",
     "output_type": "stream",
     "text": [
      "100%|██████████| 10/10 [03:04<00:00, 18.40s/it]\n"
     ]
    },
    {
     "name": "stdout",
     "output_type": "stream",
     "text": [
      "\tMean F1: 0.9554748032421344\n",
      "\tBest selection so far: [11, 25, 34, 39, 67]with an F1 score of 0.9771815655459225\n",
      "\t\t\tMulticolinearity analysis. Variance Inflation Factor of band 34 is 1.33\n",
      "\t\t\tMulticolinearity analysis. Variance Inflation Factor of band 39 is 1.79\n",
      "\t\t\tMulticolinearity analysis. Variance Inflation Factor of band 60 is 1.64\n",
      "\t\t\tMulticolinearity analysis. Variance Inflation Factor of band 86 is 2.41\n",
      "\t\t\tMulticolinearity analysis. Variance Inflation Factor of band 93 is 2.67\n",
      "\tAnalyzing candidate combination 15. 5x2 CV using bands: [34, 39, 60, 86, 99]\n"
     ]
    },
    {
     "name": "stderr",
     "output_type": "stream",
     "text": [
      "100%|██████████| 10/10 [03:03<00:00, 18.30s/it]\n"
     ]
    },
    {
     "name": "stdout",
     "output_type": "stream",
     "text": [
      "\tMean F1: 0.9529980081402488\n",
      "\tBest selection so far: [11, 25, 34, 39, 67]with an F1 score of 0.9771815655459225\n",
      "\t\t\tMulticolinearity analysis. Variance Inflation Factor of band 34 is 3.95\n",
      "\t\t\tMulticolinearity analysis. Variance Inflation Factor of band 39 is 1.7\n",
      "\t\t\tMulticolinearity analysis. Variance Inflation Factor of band 60 is 1.81\n",
      "\t\t\tMulticolinearity analysis. Variance Inflation Factor of band 86 is 1.64\n",
      "\t\t\tMulticolinearity analysis. Variance Inflation Factor of band 99 is 5.22\n",
      "\tAnalyzing candidate combination 16. 5x2 CV using bands: [34, 39, 60, 78, 86]\n"
     ]
    },
    {
     "name": "stderr",
     "output_type": "stream",
     "text": [
      "100%|██████████| 10/10 [03:00<00:00, 18.06s/it]\n"
     ]
    },
    {
     "name": "stdout",
     "output_type": "stream",
     "text": [
      "\tMean F1: 0.9537311788223721\n",
      "\tBest selection so far: [11, 25, 34, 39, 67]with an F1 score of 0.9771815655459225\n",
      "\t\t\tMulticolinearity analysis. Variance Inflation Factor of band 34 is 1.88\n",
      "\t\t\tMulticolinearity analysis. Variance Inflation Factor of band 39 is 2.69\n",
      "\t\t\tMulticolinearity analysis. Variance Inflation Factor of band 60 is 2.06\n",
      "\t\t\tMulticolinearity analysis. Variance Inflation Factor of band 78 is 5.49\n",
      "\t\t\tMulticolinearity analysis. Variance Inflation Factor of band 86 is 1.7\n",
      "\tAnalyzing candidate combination 17. 5x2 CV using bands: [34, 39, 60, 86, 148]\n"
     ]
    },
    {
     "name": "stderr",
     "output_type": "stream",
     "text": [
      "100%|██████████| 10/10 [03:00<00:00, 18.03s/it]\n"
     ]
    },
    {
     "name": "stdout",
     "output_type": "stream",
     "text": [
      "\tMean F1: 0.9571376327244051\n",
      "\tBest selection so far: [11, 25, 34, 39, 67]with an F1 score of 0.9771815655459225\n",
      "\t\t\tMulticolinearity analysis. Variance Inflation Factor of band 34 is 3.73\n",
      "\t\t\tMulticolinearity analysis. Variance Inflation Factor of band 39 is 2.52\n",
      "\t\t\tMulticolinearity analysis. Variance Inflation Factor of band 60 is 1.64\n",
      "\t\t\tMulticolinearity analysis. Variance Inflation Factor of band 86 is 1.7\n",
      "\t\t\tMulticolinearity analysis. Variance Inflation Factor of band 148 is 4.83\n",
      "\tAnalyzing candidate combination 18. 5x2 CV using bands: [34, 39, 60, 86, 169]\n"
     ]
    },
    {
     "name": "stderr",
     "output_type": "stream",
     "text": [
      "100%|██████████| 10/10 [03:00<00:00, 18.07s/it]\n"
     ]
    },
    {
     "name": "stdout",
     "output_type": "stream",
     "text": [
      "\tMean F1: 0.9547089884945477\n",
      "\tBest selection so far: [11, 25, 34, 39, 67]with an F1 score of 0.9771815655459225\n",
      "\t\t\tMulticolinearity analysis. Variance Inflation Factor of band 34 is 3.66\n",
      "\t\t\tMulticolinearity analysis. Variance Inflation Factor of band 39 is 2.3\n",
      "\t\t\tMulticolinearity analysis. Variance Inflation Factor of band 60 is 1.64\n",
      "\t\t\tMulticolinearity analysis. Variance Inflation Factor of band 86 is 1.72\n",
      "\t\t\tMulticolinearity analysis. Variance Inflation Factor of band 169 is 4.66\n",
      "\tAnalyzing candidate combination 19. 5x2 CV using bands: [0, 34, 39, 60, 86]\n"
     ]
    },
    {
     "name": "stderr",
     "output_type": "stream",
     "text": [
      "100%|██████████| 10/10 [02:59<00:00, 17.98s/it]\n"
     ]
    },
    {
     "name": "stdout",
     "output_type": "stream",
     "text": [
      "\tMean F1: 0.9287309800795841\n",
      "\tBest selection so far: [11, 25, 34, 39, 67]with an F1 score of 0.9771815655459225\n",
      "\t\t\tMulticolinearity analysis. Variance Inflation Factor of band 0 is 1.19\n",
      "\t\t\tMulticolinearity analysis. Variance Inflation Factor of band 34 is 1.24\n",
      "\t\t\tMulticolinearity analysis. Variance Inflation Factor of band 39 is 1.72\n",
      "\t\t\tMulticolinearity analysis. Variance Inflation Factor of band 60 is 1.64\n",
      "\t\t\tMulticolinearity analysis. Variance Inflation Factor of band 86 is 1.37\n",
      "\tAnalyzing candidate combination 20. 5x2 CV using bands: [0, 34, 60, 86, 109]\n"
     ]
    },
    {
     "name": "stderr",
     "output_type": "stream",
     "text": [
      "100%|██████████| 10/10 [03:02<00:00, 18.24s/it]\n"
     ]
    },
    {
     "name": "stdout",
     "output_type": "stream",
     "text": [
      "\tMean F1: 0.940025596131649\n",
      "\tBest selection so far: [11, 25, 34, 39, 67]with an F1 score of 0.9771815655459225\n",
      "\t\t\tMulticolinearity analysis. Variance Inflation Factor of band 0 is 1.22\n",
      "\t\t\tMulticolinearity analysis. Variance Inflation Factor of band 34 is 2.84\n",
      "\t\t\tMulticolinearity analysis. Variance Inflation Factor of band 60 is 1.15\n",
      "\t\t\tMulticolinearity analysis. Variance Inflation Factor of band 86 is 1.5\n",
      "\t\t\tMulticolinearity analysis. Variance Inflation Factor of band 109 is 3.41\n",
      "\tAnalyzing candidate combination 21. 5x2 CV using bands: [0, 34, 60, 86, 146]\n"
     ]
    },
    {
     "name": "stderr",
     "output_type": "stream",
     "text": [
      "100%|██████████| 10/10 [03:00<00:00, 18.04s/it]\n"
     ]
    },
    {
     "name": "stdout",
     "output_type": "stream",
     "text": [
      "\tMean F1: 0.9285875357547118\n",
      "\tBest selection so far: [11, 25, 34, 39, 67]with an F1 score of 0.9771815655459225\n",
      "\t\t\tMulticolinearity analysis. Variance Inflation Factor of band 0 is 1.26\n",
      "\t\t\tMulticolinearity analysis. Variance Inflation Factor of band 34 is 1.98\n",
      "\t\t\tMulticolinearity analysis. Variance Inflation Factor of band 60 is 1.13\n",
      "\t\t\tMulticolinearity analysis. Variance Inflation Factor of band 86 is 1.67\n",
      "\t\t\tMulticolinearity analysis. Variance Inflation Factor of band 146 is 2.84\n",
      "\tAnalyzing candidate combination 22. 5x2 CV using bands: [0, 34, 60, 86, 191]\n"
     ]
    },
    {
     "name": "stderr",
     "output_type": "stream",
     "text": [
      "100%|██████████| 10/10 [03:00<00:00, 18.04s/it]\n"
     ]
    },
    {
     "name": "stdout",
     "output_type": "stream",
     "text": [
      "\tMean F1: 0.9261504086906187\n",
      "Selecting bands:  [11, 25, 34, 39, 67]\n",
      "\n",
      " Training a model using 5x2 CV using the final selected or reduced bands...\n",
      "Mean F1 score: 97.89117044278429\n",
      "\n",
      "*************************************\n",
      "Testing VIF threshold: 9\n",
      "*************************************\n"
     ]
    },
    {
     "name": "stderr",
     "output_type": "stream",
     "text": [
      "100%|██████████| 200/200 [01:06<00:00,  3.02it/s]\n"
     ]
    },
    {
     "name": "stdout",
     "output_type": "stream",
     "text": [
      "Selecting bands:  [0, 7, 12, 15, 17, 23, 25, 34, 46, 56, 58, 60, 67, 74, 78, 86, 93, 99, 104, 109, 125, 142, 144, 146, 148, 151, 169, 173, 199]\n",
      "Executing IBRA + GSS (Greddy Spectral Selection)\n",
      "\tAnalyzing candidate combination 1. 5x2 CV using bands: [17, 23, 25, 34, 46]\n"
     ]
    },
    {
     "name": "stderr",
     "output_type": "stream",
     "text": [
      "100%|██████████| 10/10 [03:05<00:00, 18.51s/it]\n"
     ]
    },
    {
     "name": "stdout",
     "output_type": "stream",
     "text": [
      "\tMean F1: 0.9525266573091958\n",
      "\t\t\tMulticolinearity analysis. Variance Inflation Factor of band 17 is 13.17\n",
      "\t\t\tMulticolinearity analysis. Variance Inflation Factor of band 23 is 40.68\n",
      "\t\t\tMulticolinearity analysis. Variance Inflation Factor of band 25 is 35.48\n",
      "\t\t\tMulticolinearity analysis. Variance Inflation Factor of band 34 is 7.57\n",
      "\t\t\tMulticolinearity analysis. Variance Inflation Factor of band 46 is 1.97\n",
      "\tAnalyzing candidate combination 2. 5x2 CV using bands: [15, 17, 25, 34, 46]\n"
     ]
    },
    {
     "name": "stderr",
     "output_type": "stream",
     "text": [
      "100%|██████████| 10/10 [03:00<00:00, 18.06s/it]\n"
     ]
    },
    {
     "name": "stdout",
     "output_type": "stream",
     "text": [
      "\tMean F1: 0.9607381922303613\n",
      "\tBest selection so far: [15, 17, 25, 34, 46]with an F1 score of 0.9607381922303613\n",
      "\t\t\tMulticolinearity analysis. Variance Inflation Factor of band 15 is 27.95\n",
      "\t\t\tMulticolinearity analysis. Variance Inflation Factor of band 17 is 19.4\n",
      "\t\t\tMulticolinearity analysis. Variance Inflation Factor of band 25 is 14.18\n",
      "\t\t\tMulticolinearity analysis. Variance Inflation Factor of band 34 is 8.21\n",
      "\t\t\tMulticolinearity analysis. Variance Inflation Factor of band 46 is 2.28\n",
      "\tAnalyzing candidate combination 3. 5x2 CV using bands: [17, 25, 34, 46, 67]\n"
     ]
    },
    {
     "name": "stderr",
     "output_type": "stream",
     "text": [
      "100%|██████████| 10/10 [03:01<00:00, 18.18s/it]\n"
     ]
    },
    {
     "name": "stdout",
     "output_type": "stream",
     "text": [
      "\tMean F1: 0.9755117725351754\n",
      "\tBest selection so far: [17, 25, 34, 46, 67]with an F1 score of 0.9755117725351754\n",
      "\t\t\tMulticolinearity analysis. Variance Inflation Factor of band 17 is 12.42\n",
      "\t\t\tMulticolinearity analysis. Variance Inflation Factor of band 25 is 11.27\n",
      "\t\t\tMulticolinearity analysis. Variance Inflation Factor of band 34 is 8.5\n",
      "\t\t\tMulticolinearity analysis. Variance Inflation Factor of band 46 is 18.63\n",
      "\t\t\tMulticolinearity analysis. Variance Inflation Factor of band 67 is 19.66\n",
      "\tAnalyzing candidate combination 4. 5x2 CV using bands: [12, 17, 25, 34, 46]\n"
     ]
    },
    {
     "name": "stderr",
     "output_type": "stream",
     "text": [
      "100%|██████████| 10/10 [03:00<00:00, 18.09s/it]\n"
     ]
    },
    {
     "name": "stdout",
     "output_type": "stream",
     "text": [
      "\tMean F1: 0.9680101786681586\n",
      "\tBest selection so far: [17, 25, 34, 46, 67]with an F1 score of 0.9755117725351754\n",
      "\t\t\tMulticolinearity analysis. Variance Inflation Factor of band 12 is 14.56\n",
      "\t\t\tMulticolinearity analysis. Variance Inflation Factor of band 17 is 16.01\n",
      "\t\t\tMulticolinearity analysis. Variance Inflation Factor of band 25 is 11.01\n",
      "\t\t\tMulticolinearity analysis. Variance Inflation Factor of band 34 is 9.05\n",
      "\t\t\tMulticolinearity analysis. Variance Inflation Factor of band 46 is 2.17\n",
      "\tAnalyzing candidate combination 5. 5x2 CV using bands: [12, 25, 34, 46, 56]\n"
     ]
    },
    {
     "name": "stderr",
     "output_type": "stream",
     "text": [
      "100%|██████████| 10/10 [03:00<00:00, 18.08s/it]\n"
     ]
    },
    {
     "name": "stdout",
     "output_type": "stream",
     "text": [
      "\tMean F1: 0.9720463857515999\n",
      "\tBest selection so far: [17, 25, 34, 46, 67]with an F1 score of 0.9755117725351754\n",
      "\t\t\tMulticolinearity analysis. Variance Inflation Factor of band 12 is 11.28\n",
      "\t\t\tMulticolinearity analysis. Variance Inflation Factor of band 25 is 8.45\n",
      "\t\t\tMulticolinearity analysis. Variance Inflation Factor of band 34 is 8.85\n",
      "\t\t\tMulticolinearity analysis. Variance Inflation Factor of band 46 is 5.33\n",
      "\t\t\tMulticolinearity analysis. Variance Inflation Factor of band 56 is 4.31\n",
      "\tAnalyzing candidate combination 6. 5x2 CV using bands: [7, 25, 34, 46, 56]\n"
     ]
    },
    {
     "name": "stderr",
     "output_type": "stream",
     "text": [
      "100%|██████████| 10/10 [03:00<00:00, 18.09s/it]\n"
     ]
    },
    {
     "name": "stdout",
     "output_type": "stream",
     "text": [
      "\tMean F1: 0.9716631572974468\n",
      "\tBest selection so far: [17, 25, 34, 46, 67]with an F1 score of 0.9755117725351754\n",
      "\t\t\tMulticolinearity analysis. Variance Inflation Factor of band 7 is 7.0\n",
      "\t\t\tMulticolinearity analysis. Variance Inflation Factor of band 25 is 10.4\n",
      "\t\t\tMulticolinearity analysis. Variance Inflation Factor of band 34 is 6.13\n",
      "\t\t\tMulticolinearity analysis. Variance Inflation Factor of band 46 is 4.7\n",
      "\t\t\tMulticolinearity analysis. Variance Inflation Factor of band 56 is 4.29\n",
      "\tAnalyzing candidate combination 7. 5x2 CV using bands: [7, 34, 46, 56, 60]\n"
     ]
    },
    {
     "name": "stderr",
     "output_type": "stream",
     "text": [
      "100%|██████████| 10/10 [03:01<00:00, 18.13s/it]\n"
     ]
    },
    {
     "name": "stdout",
     "output_type": "stream",
     "text": [
      "\tMean F1: 0.9616920560036599\n",
      "\tBest selection so far: [17, 25, 34, 46, 67]with an F1 score of 0.9755117725351754\n",
      "\t\t\tMulticolinearity analysis. Variance Inflation Factor of band 7 is 4.32\n",
      "\t\t\tMulticolinearity analysis. Variance Inflation Factor of band 34 is 4.28\n",
      "\t\t\tMulticolinearity analysis. Variance Inflation Factor of band 46 is 6.69\n",
      "\t\t\tMulticolinearity analysis. Variance Inflation Factor of band 56 is 4.5\n",
      "\t\t\tMulticolinearity analysis. Variance Inflation Factor of band 60 is 2.16\n",
      "\tAnalyzing candidate combination 8. 5x2 CV using bands: [7, 34, 56, 60, 74]\n"
     ]
    },
    {
     "name": "stderr",
     "output_type": "stream",
     "text": [
      "100%|██████████| 10/10 [03:01<00:00, 18.15s/it]\n"
     ]
    },
    {
     "name": "stdout",
     "output_type": "stream",
     "text": [
      "\tMean F1: 0.952275998885719\n",
      "\tBest selection so far: [17, 25, 34, 46, 67]with an F1 score of 0.9755117725351754\n",
      "\t\t\tMulticolinearity analysis. Variance Inflation Factor of band 7 is 4.14\n",
      "\t\t\tMulticolinearity analysis. Variance Inflation Factor of band 34 is 4.1\n",
      "\t\t\tMulticolinearity analysis. Variance Inflation Factor of band 56 is 3.19\n",
      "\t\t\tMulticolinearity analysis. Variance Inflation Factor of band 60 is 1.92\n",
      "\t\t\tMulticolinearity analysis. Variance Inflation Factor of band 74 is 4.2\n",
      "\tAnalyzing candidate combination 9. 5x2 CV using bands: [7, 34, 56, 60, 125]\n"
     ]
    },
    {
     "name": "stderr",
     "output_type": "stream",
     "text": [
      "100%|██████████| 10/10 [03:01<00:00, 18.18s/it]\n"
     ]
    },
    {
     "name": "stdout",
     "output_type": "stream",
     "text": [
      "\tMean F1: 0.9721052574049829\n",
      "\tBest selection so far: [17, 25, 34, 46, 67]with an F1 score of 0.9755117725351754\n",
      "\t\t\tMulticolinearity analysis. Variance Inflation Factor of band 7 is 6.83\n",
      "\t\t\tMulticolinearity analysis. Variance Inflation Factor of band 34 is 5.42\n",
      "\t\t\tMulticolinearity analysis. Variance Inflation Factor of band 56 is 1.79\n",
      "\t\t\tMulticolinearity analysis. Variance Inflation Factor of band 60 is 1.41\n",
      "\t\t\tMulticolinearity analysis. Variance Inflation Factor of band 125 is 8.71\n",
      "\tAnalyzing candidate combination 10. 5x2 CV using bands: [7, 34, 56, 60, 86]\n"
     ]
    },
    {
     "name": "stderr",
     "output_type": "stream",
     "text": [
      "100%|██████████| 10/10 [03:01<00:00, 18.19s/it]\n"
     ]
    },
    {
     "name": "stdout",
     "output_type": "stream",
     "text": [
      "\tMean F1: 0.9580405230163045\n",
      "\tBest selection so far: [17, 25, 34, 46, 67]with an F1 score of 0.9755117725351754\n",
      "\t\t\tMulticolinearity analysis. Variance Inflation Factor of band 7 is 4.32\n",
      "\t\t\tMulticolinearity analysis. Variance Inflation Factor of band 34 is 4.11\n",
      "\t\t\tMulticolinearity analysis. Variance Inflation Factor of band 56 is 1.54\n",
      "\t\t\tMulticolinearity analysis. Variance Inflation Factor of band 60 is 1.44\n",
      "\t\t\tMulticolinearity analysis. Variance Inflation Factor of band 86 is 1.34\n",
      "\tAnalyzing candidate combination 11. 5x2 CV using bands: [34, 56, 58, 60, 86]\n"
     ]
    },
    {
     "name": "stderr",
     "output_type": "stream",
     "text": [
      "100%|██████████| 10/10 [03:02<00:00, 18.28s/it]\n"
     ]
    },
    {
     "name": "stdout",
     "output_type": "stream",
     "text": [
      "\tMean F1: 0.9335239624508633\n",
      "\tBest selection so far: [17, 25, 34, 46, 67]with an F1 score of 0.9755117725351754\n",
      "\t\t\tMulticolinearity analysis. Variance Inflation Factor of band 34 is 1.32\n",
      "\t\t\tMulticolinearity analysis. Variance Inflation Factor of band 56 is 5.04\n",
      "\t\t\tMulticolinearity analysis. Variance Inflation Factor of band 58 is 9.66\n",
      "\t\t\tMulticolinearity analysis. Variance Inflation Factor of band 60 is 2.47\n",
      "\t\t\tMulticolinearity analysis. Variance Inflation Factor of band 86 is 1.85\n",
      "\tAnalyzing candidate combination 12. 5x2 CV using bands: [34, 56, 60, 86, 93]\n"
     ]
    },
    {
     "name": "stderr",
     "output_type": "stream",
     "text": [
      "100%|██████████| 10/10 [03:00<00:00, 18.06s/it]\n"
     ]
    },
    {
     "name": "stdout",
     "output_type": "stream",
     "text": [
      "\tMean F1: 0.9361874408257842\n",
      "\tBest selection so far: [17, 25, 34, 46, 67]with an F1 score of 0.9755117725351754\n",
      "\t\t\tMulticolinearity analysis. Variance Inflation Factor of band 34 is 1.33\n",
      "\t\t\tMulticolinearity analysis. Variance Inflation Factor of band 56 is 1.46\n",
      "\t\t\tMulticolinearity analysis. Variance Inflation Factor of band 60 is 1.45\n",
      "\t\t\tMulticolinearity analysis. Variance Inflation Factor of band 86 is 2.42\n",
      "\t\t\tMulticolinearity analysis. Variance Inflation Factor of band 93 is 2.62\n",
      "\tAnalyzing candidate combination 13. 5x2 CV using bands: [34, 56, 60, 86, 99]\n"
     ]
    },
    {
     "name": "stderr",
     "output_type": "stream",
     "text": [
      "100%|██████████| 10/10 [02:59<00:00, 17.99s/it]\n"
     ]
    },
    {
     "name": "stdout",
     "output_type": "stream",
     "text": [
      "\tMean F1: 0.94163431004049\n",
      "\tBest selection so far: [17, 25, 34, 46, 67]with an F1 score of 0.9755117725351754\n",
      "\t\t\tMulticolinearity analysis. Variance Inflation Factor of band 34 is 4.06\n",
      "\t\t\tMulticolinearity analysis. Variance Inflation Factor of band 56 is 1.47\n",
      "\t\t\tMulticolinearity analysis. Variance Inflation Factor of band 60 is 1.57\n",
      "\t\t\tMulticolinearity analysis. Variance Inflation Factor of band 86 is 1.59\n",
      "\t\t\tMulticolinearity analysis. Variance Inflation Factor of band 99 is 5.43\n",
      "\tAnalyzing candidate combination 14. 5x2 CV using bands: [34, 56, 60, 78, 86]\n"
     ]
    },
    {
     "name": "stderr",
     "output_type": "stream",
     "text": [
      "100%|██████████| 10/10 [02:59<00:00, 17.99s/it]\n"
     ]
    },
    {
     "name": "stdout",
     "output_type": "stream",
     "text": [
      "\tMean F1: 0.9363029109304042\n",
      "\tBest selection so far: [17, 25, 34, 46, 67]with an F1 score of 0.9755117725351754\n",
      "\t\t\tMulticolinearity analysis. Variance Inflation Factor of band 34 is 2.02\n",
      "\t\t\tMulticolinearity analysis. Variance Inflation Factor of band 56 is 2.77\n",
      "\t\t\tMulticolinearity analysis. Variance Inflation Factor of band 60 is 2.04\n",
      "\t\t\tMulticolinearity analysis. Variance Inflation Factor of band 78 is 6.76\n",
      "\t\t\tMulticolinearity analysis. Variance Inflation Factor of band 86 is 1.9\n",
      "\tAnalyzing candidate combination 15. 5x2 CV using bands: [34, 56, 60, 86, 148]\n"
     ]
    },
    {
     "name": "stderr",
     "output_type": "stream",
     "text": [
      "100%|██████████| 10/10 [03:01<00:00, 18.14s/it]\n"
     ]
    },
    {
     "name": "stdout",
     "output_type": "stream",
     "text": [
      "\tMean F1: 0.9355859420681559\n",
      "\tBest selection so far: [17, 25, 34, 46, 67]with an F1 score of 0.9755117725351754\n",
      "\t\t\tMulticolinearity analysis. Variance Inflation Factor of band 34 is 3.37\n",
      "\t\t\tMulticolinearity analysis. Variance Inflation Factor of band 56 is 1.77\n",
      "\t\t\tMulticolinearity analysis. Variance Inflation Factor of band 60 is 1.44\n",
      "\t\t\tMulticolinearity analysis. Variance Inflation Factor of band 86 is 1.48\n",
      "\t\t\tMulticolinearity analysis. Variance Inflation Factor of band 148 is 4.06\n",
      "\tAnalyzing candidate combination 16. 5x2 CV using bands: [34, 56, 60, 86, 173]\n"
     ]
    },
    {
     "name": "stderr",
     "output_type": "stream",
     "text": [
      "100%|██████████| 10/10 [03:01<00:00, 18.16s/it]\n"
     ]
    },
    {
     "name": "stdout",
     "output_type": "stream",
     "text": [
      "\tMean F1: 0.9353896605084507\n",
      "\tBest selection so far: [17, 25, 34, 46, 67]with an F1 score of 0.9755117725351754\n",
      "\t\t\tMulticolinearity analysis. Variance Inflation Factor of band 34 is 3.34\n",
      "\t\t\tMulticolinearity analysis. Variance Inflation Factor of band 56 is 1.64\n",
      "\t\t\tMulticolinearity analysis. Variance Inflation Factor of band 60 is 1.44\n",
      "\t\t\tMulticolinearity analysis. Variance Inflation Factor of band 86 is 1.51\n",
      "\t\t\tMulticolinearity analysis. Variance Inflation Factor of band 173 is 3.99\n",
      "\tAnalyzing candidate combination 17. 5x2 CV using bands: [34, 56, 60, 86, 169]\n"
     ]
    },
    {
     "name": "stderr",
     "output_type": "stream",
     "text": [
      "100%|██████████| 10/10 [03:01<00:00, 18.15s/it]\n"
     ]
    },
    {
     "name": "stdout",
     "output_type": "stream",
     "text": [
      "\tMean F1: 0.9294671472103456\n",
      "\tBest selection so far: [17, 25, 34, 46, 67]with an F1 score of 0.9755117725351754\n",
      "\t\t\tMulticolinearity analysis. Variance Inflation Factor of band 34 is 3.37\n",
      "\t\t\tMulticolinearity analysis. Variance Inflation Factor of band 56 is 1.66\n",
      "\t\t\tMulticolinearity analysis. Variance Inflation Factor of band 60 is 1.44\n",
      "\t\t\tMulticolinearity analysis. Variance Inflation Factor of band 86 is 1.51\n",
      "\t\t\tMulticolinearity analysis. Variance Inflation Factor of band 169 is 4.04\n",
      "\tAnalyzing candidate combination 18. 5x2 CV using bands: [0, 34, 56, 60, 86]\n"
     ]
    },
    {
     "name": "stderr",
     "output_type": "stream",
     "text": [
      "100%|██████████| 10/10 [02:59<00:00, 17.99s/it]\n"
     ]
    },
    {
     "name": "stdout",
     "output_type": "stream",
     "text": [
      "\tMean F1: 0.9151186857838709\n",
      "Selecting bands:  [17, 25, 34, 46, 67]\n",
      "\n",
      " Training a model using 5x2 CV using the final selected or reduced bands...\n",
      "Mean F1 score: 97.328508768817\n",
      "\n",
      "The best F1 performance was achieved using a VIF = 10\n",
      "The best band combination obtained using GSS was [11, 25, 34, 39, 67]\n"
     ]
    }
   ],
   "source": [
    "VIF_best, IBRA_best, GSS_best, stats_best =selector.run_selection(init_vf=11, final_vf=9)"
   ]
  },
  {
   "cell_type": "code",
   "execution_count": 6,
   "metadata": {
    "id": "HEvtF6hy7Nr6"
   },
   "outputs": [
    {
     "name": "stdout",
     "output_type": "stream",
     "text": [
      "The best metrics were obtained using a VIF value of 10\n",
      "The pre-selected bands obtained by IBRA wew [0, 7, 11, 15, 17, 25, 34, 37, 39, 44, 47, 56, 58, 60, 67, 74, 78, 86, 93, 99, 104, 109, 125, 142, 144, 146, 148, 150, 169, 191, 199]\n",
      "The pre-selected bands obtained by IBRA+GSS wew [11, 25, 34, 39, 67]\n",
      "The best classification metrics were as follows:\n",
      "Stats(mean_accuracy=97.90243902439025, std_accuracy=0.25474439254362624, mean_precision=98.2594345663942, std_precision=0.29439238546148844, mean_recall=97.63255042170843, std_recall=0.727851940440311, mean_f1=97.89117044278429, std_f1=0.41396655152957146)\n"
     ]
    }
   ],
   "source": [
    "print('The best metrics were obtained using a VIF value of {}'.format(VIF_best))\n",
    "print('The pre-selected bands obtained by IBRA wew {}'.format(IBRA_best))\n",
    "print('The pre-selected bands obtained by IBRA+GSS wew {}'.format(GSS_best))\n",
    "print('The best classification metrics were as follows:')\n",
    "print(stats_best)"
   ]
  }
 ],
 "metadata": {
  "accelerator": "GPU",
  "colab": {
   "gpuType": "T4",
   "provenance": []
  },
  "kernelspec": {
   "display_name": "Python 3 (ipykernel)",
   "language": "python",
   "name": "python3"
  },
  "language_info": {
   "codemirror_mode": {
    "name": "ipython",
    "version": 3
   },
   "file_extension": ".py",
   "mimetype": "text/x-python",
   "name": "python",
   "nbconvert_exporter": "python",
   "pygments_lexer": "ipython3",
   "version": "3.9.6"
  }
 },
 "nbformat": 4,
 "nbformat_minor": 4
}
